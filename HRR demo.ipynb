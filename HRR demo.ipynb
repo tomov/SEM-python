{
 "cells": [
  {
   "cell_type": "code",
   "execution_count": 63,
   "metadata": {},
   "outputs": [
    {
     "name": "stdout",
     "output_type": "stream",
     "text": [
      "[-0.04075033  0.10948795 -0.03440521 -0.12256749 -0.0170045 ]\n",
      "[-0.079578    0.07765981 -0.16192747 -0.03133666  0.02795843  0.09359809\n",
      " -0.06102935 -0.28595688 -0.28659151  0.42070081 -0.00985622 -0.01674752\n",
      "  0.12632654  0.01047944 -0.41622564 -0.25114877  0.0254181   0.11855994\n",
      "  0.00767237  0.27106618]\n"
     ]
    }
   ],
   "source": [
    "import numpy as np\n",
    "import matplotlib.pyplot as plt\n",
    "from scipy.stats import multivariate_normal as mvn\n",
    "from numpy.fft import fft, ifft\n",
    "\n",
    "n = 5\n",
    "x = mvn.rvs(mean = np.zeros(n), cov = np.eye(n) * 1/n, size=20)\n",
    "\n",
    "print np.mean(x, axis=0)\n",
    "print np.mean(x, axis=1)"
   ]
  },
  {
   "cell_type": "code",
   "execution_count": 134,
   "metadata": {},
   "outputs": [
    {
     "name": "stdout",
     "output_type": "stream",
     "text": [
      "242\n"
     ]
    }
   ],
   "source": [
    "# plate's formula for calculating appropriate dimension D \n",
    "# based on how much stuff we're storing (K) and how many possibilities there are (N)\n",
    "# and the error rate err\n",
    "#\n",
    "def plate(N, K, err):\n",
    "    return int(np.round(3.16*(K-0.25)*(np.log(N)-3*np.log(err))))\n",
    "\n",
    "D = plate(10, 5, 0.01)\n",
    "print D"
   ]
  },
  {
   "cell_type": "code",
   "execution_count": 52,
   "metadata": {},
   "outputs": [
    {
     "name": "stdout",
     "output_type": "stream",
     "text": [
      "-0.125282921679\n",
      "[-0.40302732 -0.04258542  0.06773904 -0.25508945  0.0851755  -0.05412305\n",
      "  0.19264997  0.2381069  -0.32696084  0.37283176]\n"
     ]
    }
   ],
   "source": [
    "# generate new random vector(s) corresponding to symbol(s)\n",
    "#\n",
    "def embed(N, D):\n",
    "    # N = # of vectors to generate\n",
    "    # D = dimension of vector (= n in Plate's paper)\n",
    "    #\n",
    "    return mvn.rvs(mean = np.zeros(D), cov = np.eye(D) * 1/D, size=N)\n",
    "\n",
    "dog = embed(1, 10)\n",
    "agent = embed(1, 10)\n",
    "cat = embed(1, 10)\n",
    "patient = embed(1, 10)\n",
    "chase = embed(1, 10)\n",
    "verb = embed(1, 10)\n",
    "\n",
    "print sum(dog)\n",
    "print dog"
   ]
  },
  {
   "cell_type": "code",
   "execution_count": 112,
   "metadata": {},
   "outputs": [
    {
     "name": "stdout",
     "output_type": "stream",
     "text": [
      "[ 1.  2.  3.  4.]\n",
      "[ 0.2390614  -0.08674666 -0.33769437  0.47113472 -0.32199689  0.20495331\n",
      "  0.01205592 -0.25117562  0.26178908 -0.43136876]\n",
      "[ 0.2390614  -0.43136876  0.26178908 -0.25117562  0.01205592  0.20495331\n",
      " -0.32199689  0.47113472 -0.33769437 -0.08674666]\n",
      "[ 0.2390614  -0.43136876  0.26178908 -0.25117562  0.01205592  0.20495331\n",
      " -0.32199689  0.47113472 -0.33769437 -0.08674666]\n"
     ]
    }
   ],
   "source": [
    "from scipy.ndimage import convolve\n",
    "\n",
    "a = [1,2,3,4]\n",
    "print np.real(ifft(fft(a)))\n",
    "b = [5,6,7,8]\n",
    "\n",
    "a = dog\n",
    "b = cat\n",
    "\n",
    "# circular convolution the FFT way\n",
    "c = np.real(ifft(fft(a) * fft(b)))\n",
    "print c\n",
    "\n",
    "# circular convolution the old fashioned way\n",
    "# d = convolve(a, b, mode='wrap') TODO -- make it work\n",
    "#print d\n",
    "\n",
    "# involution -- the FFT way\n",
    "print np.real(ifft(np.conj(fft(c))))\n",
    "\n",
    "# involution -- the old fashioned way\n",
    "e = np.flip(c[1:], 0)\n",
    "e = np.concatenate(([c[0]], e))\n",
    "print e"
   ]
  },
  {
   "cell_type": "code",
   "execution_count": 118,
   "metadata": {},
   "outputs": [
    {
     "name": "stdout",
     "output_type": "stream",
     "text": [
      "[ 0.08108186  0.01645489  0.22486473  0.44221268  0.2165043  -0.158483\n",
      " -0.37318495  0.31238702  0.28524969  0.48252517]\n",
      "[-0.40302732 -0.04258542  0.06773904 -0.25508945  0.0851755  -0.05412305\n",
      "  0.19264997  0.2381069  -0.32696084  0.37283176]\n",
      "[-0.15844345  0.0398668  -0.00040303 -0.12019906 -0.10346973 -0.02165075\n",
      "  0.10179688  0.14627198 -0.12645906 -0.05043679]\n"
     ]
    }
   ],
   "source": [
    "# circular convolution c = a * b\n",
    "#\n",
    "def conv(a, b):\n",
    "    return np.real(ifft(fft(a) * fft(b)))\n",
    "\n",
    "# involution of a^* -- a_i = a_-i, modulo D (dimension of a)\n",
    "#\n",
    "def involution():\n",
    "    return np.real(ifft(np.conj(fft(c))))\n",
    "\n",
    "# circular correlation c = a # b = a^* * b\n",
    "# approximately inverts circular convolution\n",
    "# so that b ~= a # (a * b)\n",
    "#\n",
    "def corr(a, b):\n",
    "    return np.real(ifft(np.conj(fft(a)) * fft(b)))\n",
    "\n",
    "# notice it's flipped in Sam's code\n",
    "# x_ = decode(encode(x, a), a)\n",
    "# \n",
    "x = dog\n",
    "a = agent\n",
    "print a\n",
    "x_ = corr(a, conv(a, x))\n",
    "print x\n",
    "print x_"
   ]
  },
  {
   "cell_type": "code",
   "execution_count": 122,
   "metadata": {},
   "outputs": [
    {
     "name": "stdout",
     "output_type": "stream",
     "text": [
      "[-0.15844345  0.0398668  -0.00040303 -0.12019906 -0.10346973 -0.02165075\n",
      "  0.10179688  0.14627198 -0.12645906 -0.05043679]\n"
     ]
    }
   ],
   "source": [
    "h = conv(a, x)\n",
    "x_ = corr(a, h)\n",
    "print x_"
   ]
  },
  {
   "cell_type": "code",
   "execution_count": 140,
   "metadata": {},
   "outputs": [
    {
     "name": "stdout",
     "output_type": "stream",
     "text": [
      "0.00392055229331\n",
      "0.0104119968179\n"
     ]
    },
    {
     "data": {
      "image/png": "[encoded data removed]",
      "text/plain": [
       "<matplotlib.figure.Figure at 0x1a1a90ad10>"
      ]
     },
     "metadata": {},
     "output_type": "display_data"
    }
   ],
   "source": [
    "# single encode-decode\n",
    "#\n",
    "\n",
    "x = embed(1, D)\n",
    "a = embed(1, D)\n",
    "print np.var(x)\n",
    "x_ = corr(a, conv(a, x))\n",
    "print np.var(x_)\n",
    "\n",
    "f = np.polyfit(x, x_, 1)\n",
    "p = np.poly1d(f)\n",
    "\n",
    "plt.scatter(x, x_)\n",
    "plt.plot([min(x), max(x)], [p(min(x)), p(max(x))], color='red')\n",
    "plt.xlabel('x')\n",
    "plt.ylabel('x~')\n",
    "plt.show()"
   ]
  },
  {
   "cell_type": "code",
   "execution_count": 145,
   "metadata": {},
   "outputs": [
    {
     "data": {
      "image/png": "[encoded data removed]",
      "text/plain": [
       "<matplotlib.figure.Figure at 0x10d204fd0>"
      ]
     },
     "metadata": {},
     "output_type": "display_data"
    }
   ],
   "source": [
    "# Sam's example\n",
    "\n",
    "dog = embed(1, D)\n",
    "agent = embed(1, D)\n",
    "cat = embed(1, D)\n",
    "patient = embed(1, D)\n",
    "chase = embed(1, D)\n",
    "verb = embed(1, D)\n",
    "\n",
    "def encode(a, b):\n",
    "    return conv(b, a) # swap them to confuse everybody\n",
    "\n",
    "# MOMCHIL note: notice that I'm not dividing by length(a)\n",
    "# Sam does that because of his \"spike\" in the embeddigns which increases the variance\n",
    "#\n",
    "def decode(a, b):\n",
    "    return corr(b, a) # swapped again\n",
    "\n",
    "sentence = encode(dog,agent) + encode(chase,verb) + encode(cat,patient)\n",
    "dog_decoded = decode(sentence,agent)\n",
    "\n",
    "\n",
    "plt.scatter(dog, dog_decoded)\n",
    "\n",
    "f = np.polyfit(dog, dog_decoded, 1)\n",
    "p = np.poly1d(f)\n",
    "plt.plot([min(dog), max(dog)], [p(min(dog)), p(max(dog))], color='red')\n",
    "plt.xlabel('dog')\n",
    "plt.ylabel('dog~')\n",
    "plt.show()"
   ]
  },
  {
   "cell_type": "code",
   "execution_count": null,
   "metadata": {
    "collapsed": true
   },
   "outputs": [],
   "source": []
  }
 ],
 "metadata": {
  "kernelspec": {
   "display_name": "Python 2",
   "language": "python",
   "name": "python2"
  },
  "language_info": {
   "codemirror_mode": {
    "name": "ipython",
    "version": 2
   },
   "file_extension": ".py",
   "mimetype": "text/x-python",
   "name": "python",
   "nbconvert_exporter": "python",
   "pygments_lexer": "ipython2",
   "version": "2.7.14"
  }
 },
 "nbformat": 4,
 "nbformat_minor": 2
}
